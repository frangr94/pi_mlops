{
 "cells": [
  {
   "cell_type": "code",
   "execution_count": 13,
   "metadata": {},
   "outputs": [
    {
     "data": {
      "text/html": [
       "<div>\n",
       "<style scoped>\n",
       "    .dataframe tbody tr th:only-of-type {\n",
       "        vertical-align: middle;\n",
       "    }\n",
       "\n",
       "    .dataframe tbody tr th {\n",
       "        vertical-align: top;\n",
       "    }\n",
       "\n",
       "    .dataframe thead th {\n",
       "        text-align: right;\n",
       "    }\n",
       "</style>\n",
       "<table border=\"1\" class=\"dataframe\">\n",
       "  <thead>\n",
       "    <tr style=\"text-align: right;\">\n",
       "      <th></th>\n",
       "      <th>release_year</th>\n",
       "      <th>soup</th>\n",
       "    </tr>\n",
       "    <tr>\n",
       "      <th>title</th>\n",
       "      <th></th>\n",
       "      <th></th>\n",
       "    </tr>\n",
       "  </thead>\n",
       "  <tbody>\n",
       "    <tr>\n",
       "      <th>Toy Story</th>\n",
       "      <td>1995</td>\n",
       "      <td>en   Animation  Comedy  Family  Pixar Animatio...</td>\n",
       "    </tr>\n",
       "    <tr>\n",
       "      <th>Jumanji</th>\n",
       "      <td>1995</td>\n",
       "      <td>en   Adventure  Fantasy  Family  TriStar Pictu...</td>\n",
       "    </tr>\n",
       "    <tr>\n",
       "      <th>Grumpier Old Men</th>\n",
       "      <td>1995</td>\n",
       "      <td>en   Romance  Comedy  Warner Bros.  Lancaster ...</td>\n",
       "    </tr>\n",
       "    <tr>\n",
       "      <th>Waiting to Exhale</th>\n",
       "      <td>1995</td>\n",
       "      <td>en   Comedy  Drama  Romance  Twentieth Century...</td>\n",
       "    </tr>\n",
       "    <tr>\n",
       "      <th>Father of the Bride Part II</th>\n",
       "      <td>1995</td>\n",
       "      <td>en   Comedy  Sandollar Productions  Touchstone...</td>\n",
       "    </tr>\n",
       "  </tbody>\n",
       "</table>\n",
       "</div>"
      ],
      "text/plain": [
       "                             release_year  \\\n",
       "title                                       \n",
       "Toy Story                            1995   \n",
       "Jumanji                              1995   \n",
       "Grumpier Old Men                     1995   \n",
       "Waiting to Exhale                    1995   \n",
       "Father of the Bride Part II          1995   \n",
       "\n",
       "                                                                          soup  \n",
       "title                                                                           \n",
       "Toy Story                    en   Animation  Comedy  Family  Pixar Animatio...  \n",
       "Jumanji                      en   Adventure  Fantasy  Family  TriStar Pictu...  \n",
       "Grumpier Old Men             en   Romance  Comedy  Warner Bros.  Lancaster ...  \n",
       "Waiting to Exhale            en   Comedy  Drama  Romance  Twentieth Century...  \n",
       "Father of the Bride Part II  en   Comedy  Sandollar Productions  Touchstone...  "
      ]
     },
     "execution_count": 13,
     "metadata": {},
     "output_type": "execute_result"
    }
   ],
   "source": [
    "import pandas as pd\n",
    "import numpy as np\n",
    "from sklearn.feature_extraction.text import CountVectorizer\n",
    "from sklearn.metrics.pairwise import cosine_similarity\n",
    "\n",
    "\n",
    "df = pd.read_csv('data_modelado.csv')\n",
    "df.set_index('title',inplace=True)\n",
    "df.dropna(inplace=True)\n",
    "df.head()\n"
   ]
  },
  {
   "cell_type": "code",
   "execution_count": 14,
   "metadata": {},
   "outputs": [],
   "source": [
    "def reccomendations(title,df_f=df):\n",
    "\n",
    "    release_year = df_f.loc[df_f.index==title,'release_year'].values[0]\n",
    "    print(release_year)\n",
    "\n",
    "    df_f = df_f[(df_f['release_year']>=release_year) & (df_f['release_year']<=release_year+10)]\n",
    "\n",
    "\n",
    "    from sklearn.feature_extraction.text import CountVectorizer\n",
    "    from sklearn.metrics.pairwise import cosine_similarity\n",
    "\n",
    "    # generar matriz de contabilizacion\n",
    "    count = CountVectorizer(dtype=np.int16)\n",
    "    count_matrix = count.fit_transform(df_f['soup'])\n",
    "    count_matrix\n",
    "\n",
    "    indexes = pd.Series(df_f.index)\n",
    "\n",
    "    cosine_sim = cosine_similarity(count_matrix,count_matrix)\n",
    "\n",
    "    recommended = []\n",
    "    \n",
    "    idx = indexes[indexes==title].index[0]\n",
    "\n",
    "    score_series = pd.Series(cosine_sim[idx]).sort_values(ascending=False)\n",
    "\n",
    "    top_5_indexes = list(score_series.iloc[1:6].index)\n",
    "\n",
    "    for i in top_5_indexes:\n",
    "        recommended.append(list(df_f.index)[i])\n",
    "\n",
    "    return recommended"
   ]
  },
  {
   "cell_type": "code",
   "execution_count": 15,
   "metadata": {},
   "outputs": [
    {
     "name": "stdout",
     "output_type": "stream",
     "text": [
      "1995\n"
     ]
    },
    {
     "data": {
      "text/plain": [
       "['Toy Story 2',\n",
       " 'One Man Band',\n",
       " 'Monsters, Inc.',\n",
       " \"Mike's New Car\",\n",
       " \"Geri's Game\"]"
      ]
     },
     "execution_count": 15,
     "metadata": {},
     "output_type": "execute_result"
    }
   ],
   "source": [
    "reccomendations('Toy Story')"
   ]
  },
  {
   "cell_type": "code",
   "execution_count": 16,
   "metadata": {},
   "outputs": [
    {
     "data": {
      "text/html": [
       "<div>\n",
       "<style scoped>\n",
       "    .dataframe tbody tr th:only-of-type {\n",
       "        vertical-align: middle;\n",
       "    }\n",
       "\n",
       "    .dataframe tbody tr th {\n",
       "        vertical-align: top;\n",
       "    }\n",
       "\n",
       "    .dataframe thead th {\n",
       "        text-align: right;\n",
       "    }\n",
       "</style>\n",
       "<table border=\"1\" class=\"dataframe\">\n",
       "  <thead>\n",
       "    <tr style=\"text-align: right;\">\n",
       "      <th></th>\n",
       "      <th>release_year</th>\n",
       "      <th>soup</th>\n",
       "    </tr>\n",
       "    <tr>\n",
       "      <th>title</th>\n",
       "      <th></th>\n",
       "      <th></th>\n",
       "    </tr>\n",
       "  </thead>\n",
       "  <tbody>\n",
       "    <tr>\n",
       "      <th>Toy Story</th>\n",
       "      <td>1995</td>\n",
       "      <td>en   Animation  Comedy  Family  Pixar Animatio...</td>\n",
       "    </tr>\n",
       "    <tr>\n",
       "      <th>Jumanji</th>\n",
       "      <td>1995</td>\n",
       "      <td>en   Adventure  Fantasy  Family  TriStar Pictu...</td>\n",
       "    </tr>\n",
       "    <tr>\n",
       "      <th>Grumpier Old Men</th>\n",
       "      <td>1995</td>\n",
       "      <td>en   Romance  Comedy  Warner Bros.  Lancaster ...</td>\n",
       "    </tr>\n",
       "    <tr>\n",
       "      <th>Waiting to Exhale</th>\n",
       "      <td>1995</td>\n",
       "      <td>en   Comedy  Drama  Romance  Twentieth Century...</td>\n",
       "    </tr>\n",
       "    <tr>\n",
       "      <th>Father of the Bride Part II</th>\n",
       "      <td>1995</td>\n",
       "      <td>en   Comedy  Sandollar Productions  Touchstone...</td>\n",
       "    </tr>\n",
       "    <tr>\n",
       "      <th>...</th>\n",
       "      <td>...</td>\n",
       "      <td>...</td>\n",
       "    </tr>\n",
       "    <tr>\n",
       "      <th>Pooh's Heffalump Halloween Movie</th>\n",
       "      <td>2005</td>\n",
       "      <td>en   Animation  Family  Walt Disney Pictures  ...</td>\n",
       "    </tr>\n",
       "    <tr>\n",
       "      <th>Shadow of the Blair Witch</th>\n",
       "      <td>2000</td>\n",
       "      <td>en   Mystery  Horror    Tony Abatemarco  Andre...</td>\n",
       "    </tr>\n",
       "    <tr>\n",
       "      <th>The Burkittsville 7</th>\n",
       "      <td>2000</td>\n",
       "      <td>en   Horror  Neptune Salad Entertainment  Piri...</td>\n",
       "    </tr>\n",
       "    <tr>\n",
       "      <th>Caged Heat 3000</th>\n",
       "      <td>1995</td>\n",
       "      <td>en   Science Fiction  Concorde-New Horizons  L...</td>\n",
       "    </tr>\n",
       "    <tr>\n",
       "      <th>Betrayal</th>\n",
       "      <td>2003</td>\n",
       "      <td>en   Action  Drama  Thriller  American World P...</td>\n",
       "    </tr>\n",
       "  </tbody>\n",
       "</table>\n",
       "<p>8911 rows × 2 columns</p>\n",
       "</div>"
      ],
      "text/plain": [
       "                                  release_year  \\\n",
       "title                                            \n",
       "Toy Story                                 1995   \n",
       "Jumanji                                   1995   \n",
       "Grumpier Old Men                          1995   \n",
       "Waiting to Exhale                         1995   \n",
       "Father of the Bride Part II               1995   \n",
       "...                                        ...   \n",
       "Pooh's Heffalump Halloween Movie          2005   \n",
       "Shadow of the Blair Witch                 2000   \n",
       "The Burkittsville 7                       2000   \n",
       "Caged Heat 3000                           1995   \n",
       "Betrayal                                  2003   \n",
       "\n",
       "                                                                               soup  \n",
       "title                                                                                \n",
       "Toy Story                         en   Animation  Comedy  Family  Pixar Animatio...  \n",
       "Jumanji                           en   Adventure  Fantasy  Family  TriStar Pictu...  \n",
       "Grumpier Old Men                  en   Romance  Comedy  Warner Bros.  Lancaster ...  \n",
       "Waiting to Exhale                 en   Comedy  Drama  Romance  Twentieth Century...  \n",
       "Father of the Bride Part II       en   Comedy  Sandollar Productions  Touchstone...  \n",
       "...                                                                             ...  \n",
       "Pooh's Heffalump Halloween Movie  en   Animation  Family  Walt Disney Pictures  ...  \n",
       "Shadow of the Blair Witch         en   Mystery  Horror    Tony Abatemarco  Andre...  \n",
       "The Burkittsville 7               en   Horror  Neptune Salad Entertainment  Piri...  \n",
       "Caged Heat 3000                   en   Science Fiction  Concorde-New Horizons  L...  \n",
       "Betrayal                          en   Action  Drama  Thriller  American World P...  \n",
       "\n",
       "[8911 rows x 2 columns]"
      ]
     },
     "execution_count": 16,
     "metadata": {},
     "output_type": "execute_result"
    }
   ],
   "source": [
    "df[(df['release_year']>=1995) & (df['release_year']<=1995+10)]"
   ]
  },
  {
   "cell_type": "code",
   "execution_count": 17,
   "metadata": {},
   "outputs": [
    {
     "data": {
      "text/plain": [
       "1995"
      ]
     },
     "execution_count": 17,
     "metadata": {},
     "output_type": "execute_result"
    }
   ],
   "source": [
    "df.loc[df.index=='Toy Story','release_year'].values[0]"
   ]
  },
  {
   "cell_type": "code",
   "execution_count": 18,
   "metadata": {},
   "outputs": [
    {
     "data": {
      "text/plain": [
       "1995"
      ]
     },
     "execution_count": 18,
     "metadata": {},
     "output_type": "execute_result"
    }
   ],
   "source": [
    "df.loc['Toy Story', 'release_year']"
   ]
  },
  {
   "cell_type": "code",
   "execution_count": 19,
   "metadata": {},
   "outputs": [],
   "source": [
    "def recommendations(title):\n",
    "    df_f=df\n",
    "    release_year = df_f.loc[title, 'release_year']\n",
    "    df_f = df_f[df_f['release_year'].between(release_year - 5, release_year + 5)]\n",
    "\n",
    "    count = CountVectorizer(dtype=np.int16)\n",
    "    count_matrix = count.fit_transform(df_f['soup'])\n",
    "    indexes = pd.Series(df_f.index)\n",
    "\n",
    "    cosine_sim = cosine_similarity(count_matrix, count_matrix)\n",
    "\n",
    "    recommended = []\n",
    "    idx = indexes[indexes == title].index[0]\n",
    "    score_series = pd.Series(cosine_sim[idx]).sort_values(ascending=False)\n",
    "    top_5_indexes = list(score_series.iloc[1:6].index)\n",
    "\n",
    "    for i in top_5_indexes:\n",
    "        recommended.append(indexes[i])\n",
    "\n",
    "    return recommended"
   ]
  },
  {
   "cell_type": "code",
   "execution_count": 24,
   "metadata": {},
   "outputs": [],
   "source": [
    "titles = df.index\n",
    "titles = pd.Series(titles)\n",
    "titles.to_csv('available_titles.csv')"
   ]
  },
  {
   "cell_type": "code",
   "execution_count": null,
   "metadata": {},
   "outputs": [],
   "source": []
  }
 ],
 "metadata": {
  "kernelspec": {
   "display_name": "Python 3",
   "language": "python",
   "name": "python3"
  },
  "language_info": {
   "codemirror_mode": {
    "name": "ipython",
    "version": 3
   },
   "file_extension": ".py",
   "mimetype": "text/x-python",
   "name": "python",
   "nbconvert_exporter": "python",
   "pygments_lexer": "ipython3",
   "version": "3.10.6"
  },
  "orig_nbformat": 4
 },
 "nbformat": 4,
 "nbformat_minor": 2
}
