{
 "cells": [
  {
   "cell_type": "code",
   "execution_count": 11,
   "metadata": {},
   "outputs": [],
   "source": [
    "import pandas as pd\n",
    "import numpy as np\n",
    "from surprise import KNNBasic,Reader,Dataset"
   ]
  },
  {
   "cell_type": "code",
   "execution_count": 15,
   "metadata": {},
   "outputs": [
    {
     "ename": "ValueError",
     "evalue": "Impossible to parse line. Check the line_format and sep parameters.",
     "output_type": "error",
     "traceback": [
      "\u001b[0;31m---------------------------------------------------------------------------\u001b[0m",
      "\u001b[0;31mIndexError\u001b[0m                                Traceback (most recent call last)",
      "File \u001b[0;32m~/.local/lib/python3.10/site-packages/surprise/reader.py:99\u001b[0m, in \u001b[0;36mReader.parse_line\u001b[0;34m(self, line)\u001b[0m\n\u001b[1;32m     98\u001b[0m \u001b[39mif\u001b[39;00m \u001b[39mself\u001b[39m\u001b[39m.\u001b[39mwith_timestamp:\n\u001b[0;32m---> 99\u001b[0m     uid, iid, r, timestamp \u001b[39m=\u001b[39m (line[i]\u001b[39m.\u001b[39mstrip() \u001b[39mfor\u001b[39;00m i \u001b[39min\u001b[39;00m \u001b[39mself\u001b[39m\u001b[39m.\u001b[39mindexes)\n\u001b[1;32m    100\u001b[0m \u001b[39melse\u001b[39;00m:\n",
      "File \u001b[0;32m~/.local/lib/python3.10/site-packages/surprise/reader.py:99\u001b[0m, in \u001b[0;36m<genexpr>\u001b[0;34m(.0)\u001b[0m\n\u001b[1;32m     98\u001b[0m \u001b[39mif\u001b[39;00m \u001b[39mself\u001b[39m\u001b[39m.\u001b[39mwith_timestamp:\n\u001b[0;32m---> 99\u001b[0m     uid, iid, r, timestamp \u001b[39m=\u001b[39m (line[i]\u001b[39m.\u001b[39mstrip() \u001b[39mfor\u001b[39;00m i \u001b[39min\u001b[39;00m \u001b[39mself\u001b[39m\u001b[39m.\u001b[39mindexes)\n\u001b[1;32m    100\u001b[0m \u001b[39melse\u001b[39;00m:\n",
      "\u001b[0;31mIndexError\u001b[0m: list index out of range",
      "\nDuring handling of the above exception, another exception occurred:\n",
      "\u001b[0;31mValueError\u001b[0m                                Traceback (most recent call last)",
      "Cell \u001b[0;32mIn[15], line 2\u001b[0m\n\u001b[1;32m      1\u001b[0m reader \u001b[39m=\u001b[39m Reader(line_format\u001b[39m=\u001b[39m\u001b[39m'\u001b[39m\u001b[39muser item rating timestamp\u001b[39m\u001b[39m'\u001b[39m, sep\u001b[39m=\u001b[39m\u001b[39m'\u001b[39m\u001b[39m,\u001b[39m\u001b[39m'\u001b[39m)\n\u001b[0;32m----> 2\u001b[0m data \u001b[39m=\u001b[39m Dataset\u001b[39m.\u001b[39;49mload_from_file(\u001b[39m'\u001b[39;49m\u001b[39mdata_modelado.csv\u001b[39;49m\u001b[39m'\u001b[39;49m,reader\u001b[39m=\u001b[39;49mreader)\n",
      "File \u001b[0;32m~/.local/lib/python3.10/site-packages/surprise/dataset.py:123\u001b[0m, in \u001b[0;36mDataset.load_from_file\u001b[0;34m(cls, file_path, reader)\u001b[0m\n\u001b[1;32m    107\u001b[0m \u001b[39m@classmethod\u001b[39m\n\u001b[1;32m    108\u001b[0m \u001b[39mdef\u001b[39;00m \u001b[39mload_from_file\u001b[39m(\u001b[39mcls\u001b[39m, file_path, reader):\n\u001b[1;32m    109\u001b[0m \u001b[39m    \u001b[39m\u001b[39m\"\"\"Load a dataset from a (custom) file.\u001b[39;00m\n\u001b[1;32m    110\u001b[0m \n\u001b[1;32m    111\u001b[0m \u001b[39m    Use this if you want to use a custom dataset and all of the ratings are\u001b[39;00m\n\u001b[0;32m   (...)\u001b[0m\n\u001b[1;32m    120\u001b[0m \u001b[39m            the file.\u001b[39;00m\n\u001b[1;32m    121\u001b[0m \u001b[39m    \"\"\"\u001b[39;00m\n\u001b[0;32m--> 123\u001b[0m     \u001b[39mreturn\u001b[39;00m DatasetAutoFolds(ratings_file\u001b[39m=\u001b[39;49mfile_path, reader\u001b[39m=\u001b[39;49mreader)\n",
      "File \u001b[0;32m~/.local/lib/python3.10/site-packages/surprise/dataset.py:259\u001b[0m, in \u001b[0;36mDatasetAutoFolds.__init__\u001b[0;34m(self, ratings_file, reader, df)\u001b[0m\n\u001b[1;32m    257\u001b[0m \u001b[39mif\u001b[39;00m ratings_file \u001b[39mis\u001b[39;00m \u001b[39mnot\u001b[39;00m \u001b[39mNone\u001b[39;00m:\n\u001b[1;32m    258\u001b[0m     \u001b[39mself\u001b[39m\u001b[39m.\u001b[39mratings_file \u001b[39m=\u001b[39m ratings_file\n\u001b[0;32m--> 259\u001b[0m     \u001b[39mself\u001b[39m\u001b[39m.\u001b[39mraw_ratings \u001b[39m=\u001b[39m \u001b[39mself\u001b[39;49m\u001b[39m.\u001b[39;49mread_ratings(\u001b[39mself\u001b[39;49m\u001b[39m.\u001b[39;49mratings_file)\n\u001b[1;32m    260\u001b[0m \u001b[39melif\u001b[39;00m df \u001b[39mis\u001b[39;00m \u001b[39mnot\u001b[39;00m \u001b[39mNone\u001b[39;00m:\n\u001b[1;32m    261\u001b[0m     \u001b[39mself\u001b[39m\u001b[39m.\u001b[39mdf \u001b[39m=\u001b[39m df\n",
      "File \u001b[0;32m~/.local/lib/python3.10/site-packages/surprise/dataset.py:174\u001b[0m, in \u001b[0;36mDataset.read_ratings\u001b[0;34m(self, file_name)\u001b[0m\n\u001b[1;32m    170\u001b[0m \u001b[39m\u001b[39m\u001b[39m\"\"\"Return a list of ratings (user, item, rating, timestamp) read from\u001b[39;00m\n\u001b[1;32m    171\u001b[0m \u001b[39mfile_name\"\"\"\u001b[39;00m\n\u001b[1;32m    173\u001b[0m \u001b[39mwith\u001b[39;00m \u001b[39mopen\u001b[39m(os\u001b[39m.\u001b[39mpath\u001b[39m.\u001b[39mexpanduser(file_name)) \u001b[39mas\u001b[39;00m f:\n\u001b[0;32m--> 174\u001b[0m     raw_ratings \u001b[39m=\u001b[39m [\n\u001b[1;32m    175\u001b[0m         \u001b[39mself\u001b[39m\u001b[39m.\u001b[39mreader\u001b[39m.\u001b[39mparse_line(line)\n\u001b[1;32m    176\u001b[0m         \u001b[39mfor\u001b[39;00m line \u001b[39min\u001b[39;00m itertools\u001b[39m.\u001b[39mislice(f, \u001b[39mself\u001b[39m\u001b[39m.\u001b[39mreader\u001b[39m.\u001b[39mskip_lines, \u001b[39mNone\u001b[39;00m)\n\u001b[1;32m    177\u001b[0m     ]\n\u001b[1;32m    178\u001b[0m \u001b[39mreturn\u001b[39;00m raw_ratings\n",
      "File \u001b[0;32m~/.local/lib/python3.10/site-packages/surprise/dataset.py:175\u001b[0m, in \u001b[0;36m<listcomp>\u001b[0;34m(.0)\u001b[0m\n\u001b[1;32m    170\u001b[0m \u001b[39m\u001b[39m\u001b[39m\"\"\"Return a list of ratings (user, item, rating, timestamp) read from\u001b[39;00m\n\u001b[1;32m    171\u001b[0m \u001b[39mfile_name\"\"\"\u001b[39;00m\n\u001b[1;32m    173\u001b[0m \u001b[39mwith\u001b[39;00m \u001b[39mopen\u001b[39m(os\u001b[39m.\u001b[39mpath\u001b[39m.\u001b[39mexpanduser(file_name)) \u001b[39mas\u001b[39;00m f:\n\u001b[1;32m    174\u001b[0m     raw_ratings \u001b[39m=\u001b[39m [\n\u001b[0;32m--> 175\u001b[0m         \u001b[39mself\u001b[39;49m\u001b[39m.\u001b[39;49mreader\u001b[39m.\u001b[39;49mparse_line(line)\n\u001b[1;32m    176\u001b[0m         \u001b[39mfor\u001b[39;00m line \u001b[39min\u001b[39;00m itertools\u001b[39m.\u001b[39mislice(f, \u001b[39mself\u001b[39m\u001b[39m.\u001b[39mreader\u001b[39m.\u001b[39mskip_lines, \u001b[39mNone\u001b[39;00m)\n\u001b[1;32m    177\u001b[0m     ]\n\u001b[1;32m    178\u001b[0m \u001b[39mreturn\u001b[39;00m raw_ratings\n",
      "File \u001b[0;32m~/.local/lib/python3.10/site-packages/surprise/reader.py:105\u001b[0m, in \u001b[0;36mReader.parse_line\u001b[0;34m(self, line)\u001b[0m\n\u001b[1;32m    102\u001b[0m         timestamp \u001b[39m=\u001b[39m \u001b[39mNone\u001b[39;00m\n\u001b[1;32m    104\u001b[0m \u001b[39mexcept\u001b[39;00m \u001b[39mIndexError\u001b[39;00m:\n\u001b[0;32m--> 105\u001b[0m     \u001b[39mraise\u001b[39;00m \u001b[39mValueError\u001b[39;00m(\n\u001b[1;32m    106\u001b[0m         \u001b[39m\"\u001b[39m\u001b[39mImpossible to parse line. Check the line_format\u001b[39m\u001b[39m\"\u001b[39m \u001b[39m\"\u001b[39m\u001b[39m and sep parameters.\u001b[39m\u001b[39m\"\u001b[39m\n\u001b[1;32m    107\u001b[0m     )\n\u001b[1;32m    109\u001b[0m \u001b[39mreturn\u001b[39;00m uid, iid, \u001b[39mfloat\u001b[39m(r), timestamp\n",
      "\u001b[0;31mValueError\u001b[0m: Impossible to parse line. Check the line_format and sep parameters."
     ]
    }
   ],
   "source": [
    "reader = Reader(line_format='user item rating timestamp', sep=',')\n",
    "data = Dataset.load_from_file('data_modelado.csv',reader=reader)"
   ]
  },
  {
   "cell_type": "code",
   "execution_count": 4,
   "metadata": {},
   "outputs": [
    {
     "ename": "NameError",
     "evalue": "name 'data' is not defined",
     "output_type": "error",
     "traceback": [
      "\u001b[0;31m---------------------------------------------------------------------------\u001b[0m",
      "\u001b[0;31mNameError\u001b[0m                                 Traceback (most recent call last)",
      "Cell \u001b[0;32mIn[4], line 5\u001b[0m\n\u001b[1;32m      1\u001b[0m similarity \u001b[39m=\u001b[39m {\u001b[39m'\u001b[39m\u001b[39mname\u001b[39m\u001b[39m'\u001b[39m:\u001b[39m'\u001b[39m\u001b[39mcosine\u001b[39m\u001b[39m'\u001b[39m,\u001b[39m'\u001b[39m\u001b[39muser_based\u001b[39m\u001b[39m'\u001b[39m:\u001b[39mFalse\u001b[39;00m}\n\u001b[1;32m      3\u001b[0m modelo \u001b[39m=\u001b[39m KNNBasic(sim_options\u001b[39m=\u001b[39m{\u001b[39m'\u001b[39m\u001b[39muser_based\u001b[39m\u001b[39m'\u001b[39m:\u001b[39mFalse\u001b[39;00m})\n\u001b[0;32m----> 5\u001b[0m trainset \u001b[39m=\u001b[39m data\u001b[39m.\u001b[39mbuild_full_trainset()\n",
      "\u001b[0;31mNameError\u001b[0m: name 'data' is not defined"
     ]
    }
   ],
   "source": [
    "similarity = {'name':'cosine','user_based':False}\n",
    "\n",
    "modelo = KNNBasic(sim_options={'user_based':False})\n",
    "\n",
    "trainset = data.build_full_trainset()"
   ]
  },
  {
   "cell_type": "code",
   "execution_count": null,
   "metadata": {},
   "outputs": [],
   "source": []
  }
 ],
 "metadata": {
  "kernelspec": {
   "display_name": "Python 3",
   "language": "python",
   "name": "python3"
  },
  "language_info": {
   "codemirror_mode": {
    "name": "ipython",
    "version": 3
   },
   "file_extension": ".py",
   "mimetype": "text/x-python",
   "name": "python",
   "nbconvert_exporter": "python",
   "pygments_lexer": "ipython3",
   "version": "3.10.6"
  },
  "orig_nbformat": 4
 },
 "nbformat": 4,
 "nbformat_minor": 2
}
